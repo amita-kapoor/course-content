{
  "nbformat": 4,
  "nbformat_minor": 0,
  "metadata": {
    "colab": {
      "name": "Copy of time_zones.ipynb",
      "provenance": [],
      "collapsed_sections": [],
      "include_colab_link": true
    },
    "kernelspec": {
      "name": "python3",
      "display_name": "Python 3"
    }
  },
  "cells": [
    {
      "cell_type": "markdown",
      "metadata": {
        "id": "view-in-github",
        "colab_type": "text"
      },
      "source": [
        "<a href=\"https://colab.research.google.com/github/amita-kapoor/course-content/blob/master/Additional_Resources/NMA_time_zones.ipynb\" target=\"_parent\"><img src=\"https://colab.research.google.com/assets/colab-badge.svg\" alt=\"Open In Colab\"/></a>"
      ]
    },
    {
      "cell_type": "markdown",
      "metadata": {
        "id": "aCH1oj92yOiJ",
        "colab_type": "text"
      },
      "source": [
        "## TIMEZONE MAP\n",
        "\n",
        "\n",
        "\n",
        "![timezone_map](https://drive.google.com/uc?id=1wRLqHKoxP79wvMIMBODgHrM9M9d-Mt0s)\n",
        "\n"
      ]
    },
    {
      "cell_type": "code",
      "metadata": {
        "id": "Ezeunxx5wrNf",
        "colab_type": "code",
        "cellView": "form",
        "colab": {
          "base_uri": "https://localhost:8080/",
          "height": 330
        },
        "outputId": "a6970ac4-35e7-4160-bf4b-3e2a5f0069b8"
      },
      "source": [
        "#@title Choose your local timezone, your slot and your super pod type and click PLAY\n",
        "import numpy as np\n",
        " \n",
        "def convert_tz(event_time, your_time):\n",
        "  min, hour = np.modf(event_time + your_time)\n",
        "  hour = hour%24\n",
        "  return (min>0)*30, int(hour)\n",
        " \n",
        "tuts = np.array([1, 8, 18])\n",
        "qna = (tuts + 5)%24\n",
        "ta_qna = np.array([-3, 7])\n",
        " \n",
        "your_timezone = '+5.5 India' #@param [\"+12 New Zealand\", \"+10 E Australia\", \"+9 Japan, Ct Australia\", '+8 China, W Australia', '+7 Thailand', '+6 Kazakhstan', '+5.5 India', '+5 Pakistan', '+3 Israel, Greece, Mosc', '+2 W Eur, SAf', '+1 UK, Portugal', '0 ', '-3 Brazil, Arg', '-4 EDT, Chile, NYC', '-5 CST, C Am', '-6 MST', '-7 PST', '-10 Hawaii']\n",
        "assigned_slot = '2C' #@param [\"1A\", \"1B\", \"1C\", \"2A\", \"2B\", \"2C\", \"3A\", \"3B\", \"3C\"]\n",
        "super_pod = 'BC' #@param ['AB', 'BC']\n",
        " \n",
        " \n",
        "zone = int(assigned_slot[0]) - 1\n",
        "utc = float(your_timezone.split(' ')[0])\n",
        " \n",
        "tuts_min, tuts_hour = convert_tz(tuts[zone], utc)\n",
        "qna_min, qna_hour = convert_tz(qna[zone], utc)\n",
        "tqa_min, tqa_hour = convert_tz((ta_qna[int(super_pod=='BC')]+tuts[zone])%24, utc)\n",
        " \n",
        "print('INFO:')\n",
        "print('* ZONE1-3 DETERMINES TUTORIAL+Q&A BLOCK')\n",
        "print('* SLOTA-C DETERMINES GROUP WORK BLOCK')\n",
        "print('* SUPERPOD AB/BC DETERMINES TA Q&A BLOCK\\n')\n",
        "print('>>> zone [{}] slot [{}]'.format(assigned_slot[0], assigned_slot[1]))\n",
        "print('>>> your timezone [{}] '.format(your_timezone))\n",
        "print('>>> super-pod type {} '.format(super_pod))\n",
        "print('tutorials start at {:02d}:{:02d}'.format(tuts_hour, tuts_min))\n",
        "print('~ part 1: {:02d}:{:02d} - {:02d}:{:02d}'.format(tuts_hour, tuts_min, tuts_hour+2, tuts_min))\n",
        "print('~ part 2: {:02d}:{:02d} - {:02d}:{:02d}'.format(tuts_hour+3, tuts_min, tuts_hour+4+(tuts_min>0)*1, (tuts_min==0)*30))\n",
        "print('faculty Q&A {:02d}:{:02d} - {:02d}:{:02d}'.format(qna_hour, qna_min, qna_hour+1, qna_min))\n",
        "print('TA Q&A (optional for students) {:02d}:{:02d} - {:02d}:{:02d}'.format(tqa_hour, tqa_min, tqa_hour+(tuts_min>0)*1, (tuts_min==0)*45 + (tuts_min==30)*15))\n",
        "if assigned_slot[1]=='A':\n",
        "  print('group work period {} {:02d}:{:02d} - {:02d}:{:02d}'.format(assigned_slot[1],\n",
        "                                                                    tuts_hour-5, tuts_min, \n",
        "                                                                    tuts_hour-1, tuts_min))\n",
        "elif assigned_slot[1]=='B':\n",
        "  print('group work period {} {:02d}:{:02d} - {:02d}:{:02d}, {:02d}:{:02d} - {:02d}:{:02d}'.format(assigned_slot[1],\n",
        "                                                                    tuts_hour-3, tuts_min, \n",
        "                                                                    tuts_hour-1, tuts_min,\n",
        "                                                                    qna_hour+2, tuts_min, \n",
        "                                                                    qna_hour+6, tuts_min))\n",
        "else:\n",
        "  print('group work period {} {:02d}:{:02d} - {:02d}:{:02d}'.format(assigned_slot[1],\n",
        "                                                                    qna_hour+2, tuts_min, \n",
        "                                                                    qna_hour+6, tuts_min))\n",
        "  \n",
        "print('\\n')\n",
        "print(\"TAs you can get help with the day's material from lead TAs\")\n",
        "print(\"before the tutorials start at {:02d}:{:02d} - {:02d}:{:02d}\".format(tuts_hour-1, tuts_min, tuts_hour, tuts_min))"
      ],
      "execution_count": null,
      "outputs": [
        {
          "output_type": "stream",
          "text": [
            "INFO:\n",
            "* ZONE1-3 DETERMINES TUTORIAL+Q&A BLOCK\n",
            "* SLOTA-C DETERMINES GROUP WORK BLOCK\n",
            "* SUPERPOD AB/BC DETERMINES TA Q&A BLOCK\n",
            "\n",
            ">>> zone [2] slot [C]\n",
            ">>> your timezone [+5.5 India] \n",
            ">>> super-pod type BC \n",
            "tutorials start at 13:30\n",
            "~ part 1: 13:30 - 15:30\n",
            "~ part 2: 16:30 - 18:00\n",
            "faculty Q&A 18:30 - 19:30\n",
            "TA Q&A (optional for students) 20:30 - 21:15\n",
            "group work period C 20:30 - 24:30\n",
            "\n",
            "\n",
            "TAs you can get help with the day's material from lead TAs\n",
            "before the tutorials start at 12:30 - 13:30\n"
          ],
          "name": "stdout"
        }
      ]
    }
  ]
}